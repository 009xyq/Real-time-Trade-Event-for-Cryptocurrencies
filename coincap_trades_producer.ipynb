{
 "cells": [
  {
   "cell_type": "markdown",
   "metadata": {
    "application/vnd.databricks.v1+cell": {
     "cellMetadata": {},
     "inputWidgets": {},
     "nuid": "35a3406e-8562-4b10-b605-83382f003111",
     "showTitle": false,
     "title": ""
    }
   },
   "source": [
    "# use websocket-client-py3\n",
    "\n",
    "https://pypi.org/project/websocket-client-py3/"
   ]
  },
  {
   "cell_type": "markdown",
   "metadata": {
    "application/vnd.databricks.v1+cell": {
     "cellMetadata": {},
     "inputWidgets": {},
     "nuid": "2b4237af-7a03-4def-8eef-617d75b53ed6",
     "showTitle": false,
     "title": ""
    }
   },
   "source": [
    "Create a new Kafka topic"
   ]
  },
  {
   "cell_type": "code",
   "execution_count": 0,
   "metadata": {
    "application/vnd.databricks.v1+cell": {
     "cellMetadata": {},
     "inputWidgets": {},
     "nuid": "20f51873-59ba-411c-a04c-deda3e702add",
     "showTitle": false,
     "title": ""
    }
   },
   "outputs": [],
   "source": [
    "from kafka.admin import KafkaAdminClient, NewTopic\n",
    "\n",
    "# Set up the KafkaAdminClient with bootstrap server address and any necessary configurations\n",
    "admin_client = KafkaAdminClient(\n",
    "    bootstrap_servers='b-1.detrainingmsk.66lq6h.c10.kafka.us-east-1.amazonaws.com:9092',\n",
    "    request_timeout_ms=30000\n",
    ")\n",
    "\n",
    "topic_name = 'coincap_trade'\n",
    "num_partitions = 3\n",
    "replication_factor = 2\n",
    "\n",
    "topic = NewTopic(name=topic_name, num_partitions=num_partitions, replication_factor=replication_factor)\n",
    "admin_client.create_topics([topic])"
   ]
  },
  {
   "cell_type": "code",
   "execution_count": 0,
   "metadata": {
    "application/vnd.databricks.v1+cell": {
     "cellMetadata": {},
     "inputWidgets": {},
     "nuid": "e7c1ca20-f477-4a60-a4a9-4d7ca501bbb2",
     "showTitle": false,
     "title": ""
    }
   },
   "outputs": [],
   "source": [
    "import websocket\n",
    "import json\n",
    "from kafka import KafkaProducer\n",
    "\n",
    "kafka_brokers = \"b-1.detrainingmsk.66lq6h.c10.kafka.us-east-1.amazonaws.com:9092\"\n",
    "producer = KafkaProducer(bootstrap_servers=kafka_brokers, api_version=(2, 8, 1))\n",
    "topic = 'coincap_trade'\n",
    "\n",
    "def on_open(ws):\n",
    "    print('Connection opened')\n",
    "    # Subscribe to the Bitcoin/USD trading pair\n",
    "    ws.send(json.dumps({\n",
    "        \"type\": \"subscribe\",\n",
    "        \"exchange\": \"Coinbase\",\n",
    "        \"market\": \"BTC/USD\",\n",
    "        \"channel\": \"trades\"\n",
    "    }).encode('utf-8'))\n",
    "    print('Connection initialized')\n",
    "\n",
    "\n",
    "def on_message(ws, message):\n",
    "    data = json.loads(message)\n",
    "    print(message)\n",
    "#    base = data['base']\n",
    "#    if base == 'bitcoin' or base == 'ethereum':\n",
    "    producer.send(topic, value=message.encode('utf-8'))\n",
    "\n",
    "def on_error(ws, error):\n",
    "    print(\"Error: {}\".format(error))\n",
    "\n",
    "def on_close(ws):\n",
    "    print(\"WebSocket closed\")\n",
    "\n",
    "\n",
    "# trade: \"wss://ws.coincap.io/trades/binance\"\n",
    "# price: wss://ws.coincap.io/prices?assets=bitcoin,ethereum,monero,litecoin,  wss://ws.coincap.io/prices?assets=ALL\n",
    "trade_wss = 'wss://ws.coincap.io/trades/binance'\n",
    "# price_wss = 'wss://ws.coincap.io/prices?assets=bitcoin'\n",
    "\n",
    "ws = websocket.WebSocketApp(\n",
    "    trade_wss,\n",
    "    on_open=on_open,\n",
    "    on_message=on_message,\n",
    "    on_close=on_close,\n",
    "    on_error=on_error\n",
    ")\n",
    "ws.run_forever()"
   ]
  }
 ],
 "metadata": {
  "application/vnd.databricks.v1+notebook": {
   "dashboards": [],
   "language": "python",
   "notebookMetadata": {
    "pythonIndentUnit": 4
   },
   "notebookName": "coincap_trades_producer",
   "widgets": {}
  }
 },
 "nbformat": 4,
 "nbformat_minor": 0
}
